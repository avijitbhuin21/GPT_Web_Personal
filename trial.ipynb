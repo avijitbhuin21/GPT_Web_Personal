{
 "cells": [
  {
   "cell_type": "code",
   "execution_count": 4,
   "metadata": {},
   "outputs": [
    {
     "name": "stdout",
     "output_type": "stream",
     "text": [
      "['https://tse1.mm.bing.net/th/id/OIG.NcHDSjlQDZUuFFFVSu2x?dpr=1.1&pid=ImgGn', 'https://tse2.mm.bing.net/th/id/OIG._5R0PnPoXf2MPmlMAod6?dpr=1.1&pid=ImgGn', 'https://tse2.mm.bing.net/th/id/OIG.mESM7t25Kzcp.pDg6VHc?dpr=1.1&pid=ImgGn', 'https://tse3.mm.bing.net/th/id/OIG.QjswLaX9i2dJPvJvnCx0?dpr=1.1&pid=ImgGn']\n",
      "https://tse1.mm.bing.net/th/id/OIG.NcHDSjlQDZUuFFFVSu2x?dpr=1.1&pid=ImgGn\n"
     ]
    },
    {
     "data": {
      "text/html": [
       "<img src=\"https://tse1.mm.bing.net/th/id/OIG.NcHDSjlQDZUuFFFVSu2x?dpr=1.1&pid=ImgGn\"/>"
      ],
      "text/plain": [
       "<IPython.core.display.Image object>"
      ]
     },
     "metadata": {},
     "output_type": "display_data"
    },
    {
     "name": "stdout",
     "output_type": "stream",
     "text": [
      "https://tse2.mm.bing.net/th/id/OIG._5R0PnPoXf2MPmlMAod6?dpr=1.1&pid=ImgGn\n"
     ]
    },
    {
     "data": {
      "text/html": [
       "<img src=\"https://tse2.mm.bing.net/th/id/OIG._5R0PnPoXf2MPmlMAod6?dpr=1.1&pid=ImgGn\"/>"
      ],
      "text/plain": [
       "<IPython.core.display.Image object>"
      ]
     },
     "metadata": {},
     "output_type": "display_data"
    },
    {
     "name": "stdout",
     "output_type": "stream",
     "text": [
      "https://tse2.mm.bing.net/th/id/OIG.mESM7t25Kzcp.pDg6VHc?dpr=1.1&pid=ImgGn\n"
     ]
    },
    {
     "data": {
      "text/html": [
       "<img src=\"https://tse2.mm.bing.net/th/id/OIG.mESM7t25Kzcp.pDg6VHc?dpr=1.1&pid=ImgGn\"/>"
      ],
      "text/plain": [
       "<IPython.core.display.Image object>"
      ]
     },
     "metadata": {},
     "output_type": "display_data"
    },
    {
     "name": "stdout",
     "output_type": "stream",
     "text": [
      "https://tse3.mm.bing.net/th/id/OIG.QjswLaX9i2dJPvJvnCx0?dpr=1.1&pid=ImgGn\n"
     ]
    },
    {
     "data": {
      "text/html": [
       "<img src=\"https://tse3.mm.bing.net/th/id/OIG.QjswLaX9i2dJPvJvnCx0?dpr=1.1&pid=ImgGn\"/>"
      ],
      "text/plain": [
       "<IPython.core.display.Image object>"
      ]
     },
     "metadata": {},
     "output_type": "display_data"
    }
   ],
   "source": [
    "import random \n",
    "from typing import Dict, List\n",
    "import requests\n",
    "from bs4 import BeautifulSoup\n",
    "import re\n",
    "import time\n",
    "import json\n",
    "from IPython.display import display,Image\n",
    "\n",
    "\n",
    "bing=\"https://www.bing.com\"\n",
    "FORWARDED_IP = f\"13.{random.randint(104, 107)}.{random.randint(0, 255)}.{random.randint(0, 255)}\"\n",
    "HEADERS = {\n",
    "    \"accept\": \"text/html,application/xhtml+xml,application/xml;q=0.9,image/webp,image/apng,*/*;q=0.8,application/signed-exchange;v=b3;q=0.7\",\n",
    "    \"accept-language\": \"en-US,en;q=0.9\",\n",
    "    \"cache-control\": \"max-age=0\",\n",
    "    \"content-type\": \"application/x-www-form-urlencoded\",\n",
    "    \"referrer\": \"https://www.bing.com/images/create/\",\n",
    "    \"origin\": \"https://www.bing.com\",\n",
    "    \"user-agent\": \"Mozilla/5.0 (X11; Linux x86_64) AppleWebKit/537.36 (KHTML, like Gecko) Chrome/110.0.0.0 Safari/537.36 Edg/110.0.1587.63\",\n",
    "    \"x-forwarded-for\": FORWARDED_IP,\n",
    "}\n",
    "\n",
    "class Image_Gen:\n",
    "    def __init__(self,all_cookies: List[Dict])-> None:\n",
    "        self.session=requests.Session()\n",
    "        self.session.headers=HEADERS\n",
    "        for cookie in all_cookies:\n",
    "            self.session.cookies.set(cookie[\"name\"],cookie[\"value\"])\n",
    "            self.quiet= False\n",
    "    def Generate(self,prompt: str)-> list:\n",
    "        url_encoded_prompt = requests.utils.quote(prompt)\n",
    "        payload= \"q=\"+url_encoded_prompt+\"&qs=ds\"\n",
    "        url=f\"{bing}/images/create?q={url_encoded_prompt}&rt=4&FORM=GENCRE\"\n",
    "        response=self.session.post(url,allow_redirects=False, data=payload, timeout= 200)\n",
    "        if response.status_code!=302:\n",
    "            print(\"Error while generating. Error Code =\"+ str(response.status_code))\n",
    "        id=response.headers[\"Location\"].split(\"id=\")[-1]\n",
    "        new_url=f\"https://www.bing.com/images/create/async/results/{id}?q={url_encoded_prompt}\"\n",
    "        start_wait = time.time()\n",
    "        while True:\n",
    "            if int(time.time() - start_wait) > 200:\n",
    "                print(\"timeout\")\n",
    "            response = self.session.get(new_url)\n",
    "            if response.status_code != 200 or not response.text or response.text.find(\"errorMessage\") != -1:\n",
    "                time.sleep(1)\n",
    "                continue\n",
    "            else:\n",
    "                break\n",
    "        img_tags = BeautifulSoup(response.text, 'html.parser').find_all('img',{'class': 'mimg'})\n",
    "        links=[]\n",
    "        for img in img_tags:\n",
    "            l=img.get('src')\n",
    "            l=re.sub(r'w=\\d+&h=\\d+&c=\\d+&r=\\d+&o=\\d+&', '', l)\n",
    "            links.append(l)\n",
    "        \n",
    "        return links\n",
    "    \n",
    "\n",
    "prompt='a half humanoid made of a lot of watch wheels'\n",
    "\n",
    "data = json.load(open(\"templates\\cookies.json\"))\n",
    "image_generator = Image_Gen(all_cookies=data )\n",
    "\n",
    "res=image_generator.Generate(prompt=prompt)\n",
    "print(res)\n",
    "for link in res:    \n",
    "    print(link)    \n",
    "    display(Image(url=link))   \n"
   ]
  },
  {
   "cell_type": "code",
   "execution_count": 6,
   "metadata": {},
   "outputs": [
    {
     "name": "stdout",
     "output_type": "stream",
     "text": [
      "<a href= \"https://tse3.mm.bing.net/th/id/OIG.kcM9amlz47i2lyz6AYHB?dpr=1.1&pid=ImgGn\" target=\"_blank\"><img src=\"https://tse3.mm.bing.net/th/id/OIG.kcM9amlz47i2lyz6AYHB?dpr=1.1&pid=ImgGn\" alt=\"Image 1\"></a><a href= \"https://tse2.mm.bing.net/th/id/OIG.eaJW0pVkOo_8S.fF9Cei?dpr=1.1&pid=ImgGn\" target=\"_blank\"><img src=\"https://tse2.mm.bing.net/th/id/OIG.eaJW0pVkOo_8S.fF9Cei?dpr=1.1&pid=ImgGn\" alt=\"Image 2\"></a><a href= \"https://tse4.mm.bing.net/th/id/OIG.hy6UlygLtz5pO.RNcXin?dpr=1.1&pid=ImgGn\" target=\"_blank\"><img src=\"https://tse4.mm.bing.net/th/id/OIG.hy6UlygLtz5pO.RNcXin?dpr=1.1&pid=ImgGn\" alt=\"Image 3\"></a><a href= \"https://tse3.mm.bing.net/th/id/OIG.DzOn_BvU5bpY_eltHnzr?dpr=1.1&pid=ImgGn\" target=\"_blank\"><img src=\"https://tse3.mm.bing.net/th/id/OIG.DzOn_BvU5bpY_eltHnzr?dpr=1.1&pid=ImgGn\" alt=\"Image 4\"></a>\n",
      "<a href= \"https://tse3.mm.bing.net/th/id/OIG.kcM9amlz47i2lyz6AYHB?dpr=1.1&pid=ImgGn\" target=\"_blank\"><img src=\"https://tse3.mm.bing.net/th/id/OIG.kcM9amlz47i2lyz6AYHB?dpr=1.1&pid=ImgGn\" alt=\"Image 1\"></a><a href= \"https://tse2.mm.bing.net/th/id/OIG.eaJW0pVkOo_8S.fF9Cei?dpr=1.1&pid=ImgGn\" target=\"_blank\"><img src=\"https://tse2.mm.bing.net/th/id/OIG.eaJW0pVkOo_8S.fF9Cei?dpr=1.1&pid=ImgGn\" alt=\"Image 2\"></a><a href= \"https://tse4.mm.bing.net/th/id/OIG.hy6UlygLtz5pO.RNcXin?dpr=1.1&pid=ImgGn\" target=\"_blank\"><img src=\"https://tse4.mm.bing.net/th/id/OIG.hy6UlygLtz5pO.RNcXin?dpr=1.1&pid=ImgGn\" alt=\"Image 3\"></a><a href= \"https://tse3.mm.bing.net/th/id/OIG.DzOn_BvU5bpY_eltHnzr?dpr=1.1&pid=ImgGn\" target=\"_blank\"><img src=\"https://tse3.mm.bing.net/th/id/OIG.DzOn_BvU5bpY_eltHnzr?dpr=1.1&pid=ImgGn\" alt=\"Image 4\"></a>\n",
      "True\n"
     ]
    }
   ],
   "source": [
    "res=['https://tse3.mm.bing.net/th/id/OIG.kcM9amlz47i2lyz6AYHB?dpr=1.1&pid=ImgGn', 'https://tse2.mm.bing.net/th/id/OIG.eaJW0pVkOo_8S.fF9Cei?dpr=1.1&pid=ImgGn', 'https://tse4.mm.bing.net/th/id/OIG.hy6UlygLtz5pO.RNcXin?dpr=1.1&pid=ImgGn', 'https://tse3.mm.bing.net/th/id/OIG.DzOn_BvU5bpY_eltHnzr?dpr=1.1&pid=ImgGn']\n",
    "r=\"\"\n",
    "for i in range(len(res)):\n",
    "    m=f'<a href= \"{res[i]}\" target=\"_blank\"><img src=\"{res[i]}\" alt=\"Image {i+1}\"></a>'\n",
    "    r+=m\n",
    "response=f'<a href= \"{res[0]}\" target=\"_blank\"><img src=\"{res[0]}\" alt=\"Image 1\"></a><a href= \"{res[1]}\" target=\"_blank\"><img src=\"{res[1]}\" alt=\"Image 2\"></a><a href= \"{res[2]}\" target=\"_blank\"><img src=\"{res[2]}\" alt=\"Image 3\"></a><a href= \"{res[3]}\" target=\"_blank\"><img src=\"{res[3]}\" alt=\"Image 4\"></a>'\n",
    "\n",
    "print(r)\n",
    "print(response)\n",
    "\n",
    "if r==response:\n",
    "    print(True)"
   ]
  },
  {
   "cell_type": "code",
   "execution_count": 8,
   "metadata": {},
   "outputs": [
    {
     "name": "stdout",
     "output_type": "stream",
     "text": [
      "[{'domain': '.bing.com', 'expirationDate': 1726865572.212669, 'hostOnly': False, 'httpOnly': False, 'name': 'SRCHUSR', 'path': '/', 'sameSite': 'no_restriction', 'secure': True, 'session': False, 'storeId': None, 'value': 'DOB=20230817&T=1692303809000&POEX=W'}, {'domain': '.bing.com', 'hostOnly': False, 'httpOnly': True, 'name': '_Rwho', 'path': '/', 'sameSite': 'no_restriction', 'secure': True, 'session': True, 'storeId': None, 'value': 'u=d'}, {'domain': '.bing.com', 'expirationDate': 1694452042.272354, 'hostOnly': False, 'httpOnly': False, 'name': 'GC', 'path': '/', 'sameSite': 'no_restriction', 'secure': True, 'session': False, 'storeId': None, 'value': 'pnXZDdUZsG6K1YGZtrwLL6G5wuGtH4AUZ-jHQSkfrYSQRO2bJYBhXMUrqn2flyuATTnkNKD9sCsgLiLUpjQdzQ'}, {'domain': '.bing.com', 'expirationDate': 1694403880.96296, 'hostOnly': False, 'httpOnly': True, 'name': 'SUID', 'path': '/', 'sameSite': 'no_restriction', 'secure': True, 'session': False, 'storeId': None, 'value': 'A'}, {'domain': '.bing.com', 'expirationDate': 1728927880.37636, 'hostOnly': False, 'httpOnly': False, 'name': 'SRCHHPGUSR', 'path': '/', 'sameSite': 'no_restriction', 'secure': True, 'session': False, 'storeId': None, 'value': 'SRCHLANG=en&IG=467F967F443D4C16AC19E2F85653AB71&PV=15.0.0&BRW=XW&BRH=M&CW=1653&CH=787&SCW=1635&SCH=2695&DPR=1.1&UTC=330&DM=1&EXLTT=31&HV=1694366826&WTS=63827900609&PRVCW=1653&PRVCH=787&THEME=1&cdxtone=Precise&cdxtoneopts=h3precise,clgalileo,gencontentv3'}, {'domain': '.bing.com', 'expirationDate': 1728927880.376423, 'hostOnly': False, 'httpOnly': False, 'name': 'ANON', 'path': '/', 'sameSite': 'no_restriction', 'secure': True, 'session': False, 'storeId': None, 'value': 'A=57FF53D95C77F5073EF5516EFFFFFFFF&E=1cb4&W=2'}, {'domain': 'www.bing.com', 'expirationDate': 1723851129.290212, 'hostOnly': True, 'httpOnly': False, 'name': 'MicrosoftApplicationsTelemetryDeviceId', 'path': '/', 'sameSite': 'no_restriction', 'secure': True, 'session': False, 'storeId': None, 'value': '6916ec74-ed6b-4431-a03d-74fef9e563a8'}, {'domain': '.bing.com', 'hostOnly': False, 'httpOnly': False, 'name': '_SS', 'path': '/', 'sameSite': 'no_restriction', 'secure': True, 'session': True, 'storeId': None, 'value': 'SID=10E875D8107B60F723096650111B61CF&PC=U531&R=0&RB=0&GB=0&RG=0&RP=0'}, {'domain': '.bing.com', 'hostOnly': False, 'httpOnly': False, 'name': 'ipv6', 'path': '/', 'sameSite': 'no_restriction', 'secure': True, 'session': True, 'storeId': None, 'value': 'hit=1694369320557&t=6'}, {'domain': '.bing.com', 'expirationDate': 1695577479.376392, 'hostOnly': False, 'httpOnly': False, 'name': '_U', 'path': '/', 'sameSite': 'no_restriction', 'secure': True, 'session': False, 'storeId': None, 'value': '1ZYNwL-A8QLfV7GOuzw4URWUEsfuGC822fGzvaE8tDObkVztzoFtZhc4SlCZEhFs_j97txUtKnncAHkKYwO3S8h6KLMVinMjkOncZ4kCTJekffq2Riau94o6aEqMs3QOeu1_b6goGtytxtEKWSMFsvSQ8hOmJjlEWrHmBAs67V1j12vk7YkGjNv1TTCX4cF7QW5XxAA77hHw9XTIh_qpdjnGdECbm2mEftW7LMGwlvsw'}, {'domain': '.bing.com', 'expirationDate': 1726863808.035677, 'hostOnly': False, 'httpOnly': False, 'name': 'SRCHD', 'path': '/', 'sameSite': 'no_restriction', 'secure': True, 'session': False, 'storeId': None, 'value': 'AF=ANAB01'}, {'domain': '.bing.com', 'expirationDate': 1726865573.287397, 'hostOnly': False, 'httpOnly': False, 'name': 'PPLState', 'path': '/', 'sameSite': 'no_restriction', 'secure': True, 'session': False, 'storeId': None, 'value': '1'}, {'domain': '.bing.com', 'expirationDate': 1694903069, 'hostOnly': False, 'httpOnly': False, 'name': 'ANIMIA', 'path': '/', 'sameSite': 'no_restriction', 'secure': True, 'session': False, 'storeId': None, 'value': 'FRE=1'}, {'domain': '.bing.com', 'expirationDate': 1725999808.035615, 'hostOnly': False, 'httpOnly': True, 'name': '_EDGE_V', 'path': '/', 'sameSite': None, 'secure': False, 'session': False, 'storeId': None, 'value': '1'}, {'domain': '.bing.com', 'expirationDate': 1709614373.287371, 'hostOnly': False, 'httpOnly': False, 'name': 'NAP', 'path': '/', 'sameSite': 'no_restriction', 'secure': True, 'session': False, 'storeId': None, 'value': 'V=1.9&E=1c45&C=ruylWXiRCelbzQQpge5QezyplvCYbLjaFXlEv4rPy0vNbfFLYX5FnA&W=1'}, {'domain': '.bing.com', 'expirationDate': 1726863809.983942, 'hostOnly': False, 'httpOnly': False, 'name': 'BFBUSR', 'path': '/', 'sameSite': 'no_restriction', 'secure': True, 'session': False, 'storeId': None, 'value': 'BAWAS=1&BAWFS=1'}, {'domain': '.bing.com', 'expirationDate': 1725989223.682979, 'hostOnly': False, 'httpOnly': False, 'name': '_RwBf', 'path': '/', 'sameSite': 'no_restriction', 'secure': True, 'session': False, 'storeId': None, 'value': 'r=0&ilt=155&ihpd=0&ispd=9&rc=0&rb=0&gb=0&rg=0&pc=0&mtu=0&rbb=0&g=0&cid=&clo=0&v=9&l=2023-09-10T07:00:00.0000000Z&lft=0001-01-01T00:00:00.0000000&aof=0&o=6&p=&c=&t=0&s=0001-01-01T00:00:00.0000000+00:00&ts=2023-09-10T17:27:08.2897964+00:00&rwred=0&wls=2&wlb=&lka=0&lkt=0&TH='}, {'domain': '.bing.com', 'expirationDate': 1726875126.521265, 'hostOnly': False, 'httpOnly': False, 'name': '_UR', 'path': '/', 'sameSite': 'no_restriction', 'secure': True, 'session': False, 'storeId': None, 'value': 'QS=0&TQS=0'}, {'domain': '.bing.com', 'hostOnly': False, 'httpOnly': True, 'name': '_EDGE_S', 'path': '/', 'sameSite': None, 'secure': False, 'session': True, 'storeId': None, 'value': 'SID=10E875D8107B60F723096650111B61CF'}, {'domain': 'www.bing.com', 'expirationDate': 1728064933.446657, 'hostOnly': True, 'httpOnly': True, 'name': 'MUIDB', 'path': '/', 'sameSite': None, 'secure': False, 'session': False, 'storeId': None, 'value': '23622FAE0541681D20E73C8804DA6996'}, {'domain': '.bing.com', 'expirationDate': 1728920820.825574, 'hostOnly': False, 'httpOnly': True, 'name': 'USRLOC', 'path': '/', 'sameSite': 'no_restriction', 'secure': True, 'session': False, 'storeId': None, 'value': 'HS=1&ELOC=LAT=22.551185607910156|LON=88.35908508300781|N=Kolkata%2C%20West%20Bengal|ELT=6|'}, {'domain': '.bing.com', 'expirationDate': 1723845164, 'hostOnly': False, 'httpOnly': False, 'name': '_clck', 'path': '/', 'sameSite': None, 'secure': False, 'session': False, 'storeId': None, 'value': 'uxneqg|2|fe8|0|1324'}, {'domain': '.bing.com', 'expirationDate': 1726875128.144064, 'hostOnly': False, 'httpOnly': False, 'name': '_HPVN', 'path': '/', 'sameSite': 'no_restriction', 'secure': True, 'session': False, 'storeId': None, 'value': 'CS=eyJQbiI6eyJDbiI6MSwiU3QiOjAsIlFzIjowLCJQcm9kIjoiUCJ9LCJTYyI6eyJDbiI6MSwiU3QiOjAsIlFzIjowLCJQcm9kIjoiSCJ9LCJReiI6eyJDbiI6MSwiU3QiOjAsIlFzIjowLCJQcm9kIjoiVCJ9LCJBcCI6dHJ1ZSwiTXV0ZSI6dHJ1ZSwiTGFkIjoiMjAyMy0wOC0xN1QwMDowMDowMFoiLCJJb3RkIjowLCJHd2IiOjAsIkRmdCI6bnVsbCwiTXZzIjowLCJGbHQiOjAsIkltcCI6Nn0='}, {'domain': '.bing.com', 'expirationDate': 1726863809.983979, 'hostOnly': False, 'httpOnly': True, 'name': 'BFB', 'path': '/', 'sameSite': 'no_restriction', 'secure': True, 'session': False, 'storeId': None, 'value': 'AhD0SNocNFIHWdfwwt4cuzbkI9x7-CTxhFMoq9lZmeHBqCFLFwWrlgOi3Ijicy48g3dOkZ-9XJ_Hxs0vCRgM7qHzQkxZbf_NGCpR7juKl9kxA_yeYope_hRUMWlWSLfGmYtUO28SdREj3hdE3QG5yuep0s3102-XzpwILeIp5VSyAw'}, {'domain': '.bing.com', 'expirationDate': 1726918041.049687, 'hostOnly': False, 'httpOnly': False, 'name': 'EDGSRCHHPGUSR', 'path': '/', 'sameSite': 'no_restriction', 'secure': True, 'session': False, 'storeId': None, 'value': 'udstone=Precise&udstoneopts=h3precise,fluxv1,fluxedgectx,gencontentv3'}, {'domain': '.bing.com', 'expirationDate': 1726865573.287419, 'hostOnly': False, 'httpOnly': True, 'name': 'KievRPSSecAuth', 'path': '/', 'sameSite': 'no_restriction', 'secure': True, 'session': False, 'storeId': None, 'value': 'FAB6BBRaTOJILtFsMkpLVWSG6AN6C/svRwNmAAAEgAAACBT+EJbjJbTzOATWUTL7gE+zF6+fwlHzI14dwq0eTP497yKNBWHEAvM1IQfLC4UcxqoNe6z0c6JUJz36VlaeX7L1eM9zquEKXKlnAvQZ3bxjZaz1ssKavP1PKN+k204uHHRgyxYzzzdi3WC+4n09YR5hs5RhTr4eJf/Bx2fnx27c7g7V7XbruwmNvaKTW4AjiFEAaHey7i/c6QpShZIO/ENPQeg+V3flGvchG/XYwqINU08xsA3vhbskAduweL+3WmRinQRPEbrxI+Zf9T/RY8fmr7OQZeUDw8dVTsEfZ+rG9AoY6t23xCMFsRSMlllSeWCJnISY15cxQoouZ2/Q+JzPo4G/W2YD1CkjIW7uZgalr7apIB55gnoIOuOpISBUD8gOK6j6MSrhg9OPPti/ohanMgnZBm/8cmH+AmfozvbF0lB7zPbBYXUZRXfbOvOPrart12Mc1vuvEcuJsxIvKu0mCiEHIpfAp26znZwSwP02apwkN1iiycqe7ZWA2CDAqFVeUdCdIb1IAJ3SNfG6sKcGiudn8zCtLN0Mb+JBjv4wJhFFxUajNX8564DokqHOe/On2UUHYNdvJ4DZEjPnWAXOOwKm58wlflhvJecMEUImhnKaMGYFBLB9vVEhTbvpkqcwHby4TM2TncZZs9YRsn5CFGnFSIb2bSWnO1ANrvfWC0ht7wqzMOoWbXNY6k/EIoZ/RaDL1IjC04xr37072WGhRmfhktpA/Om7/J437oIJz+oZpTyW9rDINij23dMMHPJ8sjCbdZzVY8t7eElICQQiH1V/5MqrFx8SANIobDgpNfDTdZo5xZ7ze7nHkrUlugSlfmK4SGgFmJfQdIKMcQ9PAazfdUSB4UUb8Z1MYtTUm68zKb2jNtW2cB1yFrSkIRfwtnD45i4xCcwVWHiqnur9wwYBpQzmCwHGyU3BYMEa/KneDFa2PLvLTO2MkPChGhpDKcg4hNDRMkUs75aKwP5JJyMA4+2ky+B9DKRzBs8K+oPKb15tkDsl9wcRpOH6uJoxAH8QtWKIaTKvsWLpHhRhZmfCwYjCweN65gCrXLWvMzybVkZdeLPesKV9NHTIJ2dZVwAOn30kT0u73l2SGW4Gi2xfYJVdihKFekowOCrCSVloPbC/5yGIOW2OAt5ZG6O2pRL/pw/ax506B7qaIInI5OxRybLT53zFYja4YWAEzftC3SzjSIMA1sxltuR49zuFzhjRRIn5xdfD5zJRyzD/xGVXqTuCOX2UkiYw4Zjg4RaFyFYfq9mZ+7faJdtWsizyEqnimYOI1pIBXNn8Qc3iLpApotYP0F12KrnPEbEtck4vFhL0sp/TGFBD2xSPrE6qDcRhbZZF6MjYlD8hGcpXN/QAYQtbLOo7joLHeTdJdcwEn72ouKy2mBjtmG71i4B/ot4xtnWxXOS7jlcCGrqQx9Oh9WunssJqWOsBussymnQUAFYSPxPWzcFlQYDmO/sz5xJZUF0h'}, {'domain': '.bing.com', 'expirationDate': 1726868688.76991, 'hostOnly': False, 'httpOnly': False, 'name': 'MMCASM', 'path': '/', 'sameSite': 'no_restriction', 'secure': True, 'session': False, 'storeId': None, 'value': 'ID=2A50BB5BBA294C2580E21BC70F7596CE'}, {'domain': '.bing.com', 'expirationDate': 1727889595.186758, 'hostOnly': False, 'httpOnly': False, 'name': 'MUID', 'path': '/', 'sameSite': 'no_restriction', 'secure': True, 'session': False, 'storeId': None, 'value': '23622FAE0541681D20E73C8804DA6996'}, {'domain': '.bing.com', 'expirationDate': 1702142824.063462, 'hostOnly': False, 'httpOnly': True, 'name': 'OID', 'path': '/', 'sameSite': 'no_restriction', 'secure': True, 'session': False, 'storeId': None, 'value': 'AhDB5Y0X5fmGr7DxBLsie3tf1kdFLmgY9t8RXqmHu8jylcluWz0c6FLVC6cnBRugVwEq5QhQMZgg8WPlSsapyRhgCAC1BNp0yGdbFrTsmfEB1w'}, {'domain': '.bing.com', 'hostOnly': False, 'httpOnly': False, 'name': 'SRCHS', 'path': '/', 'sameSite': 'no_restriction', 'secure': True, 'session': True, 'storeId': None, 'value': 'PC=U531'}, {'domain': '.bing.com', 'expirationDate': 1726863808.035694, 'hostOnly': False, 'httpOnly': False, 'name': 'SRCHUID', 'path': '/', 'sameSite': 'no_restriction', 'secure': True, 'session': False, 'storeId': None, 'value': 'V=2&GUID=A0BD20174EC54B538FDD1E653AA7E1CC&dmnchg=1'}, {'domain': '.bing.com', 'hostOnly': False, 'httpOnly': False, 'name': 'WLS', 'path': '/', 'sameSite': 'no_restriction', 'secure': True, 'session': True, 'storeId': None, 'value': 'C=b4687070fe6b02c2&N=Avijit'}]\n"
     ]
    }
   ],
   "source": [
    "import json\n",
    "with open('templates\\cookies.json', 'r') as file:\n",
    "    cookies = json.load(file)\n",
    "    print(cookies)"
   ]
  },
  {
   "cell_type": "code",
   "execution_count": null,
   "metadata": {},
   "outputs": [],
   "source": []
  }
 ],
 "metadata": {
  "kernelspec": {
   "display_name": "Python 3",
   "language": "python",
   "name": "python3"
  },
  "language_info": {
   "codemirror_mode": {
    "name": "ipython",
    "version": 3
   },
   "file_extension": ".py",
   "mimetype": "text/x-python",
   "name": "python",
   "nbconvert_exporter": "python",
   "pygments_lexer": "ipython3",
   "version": "3.11.5"
  },
  "orig_nbformat": 4
 },
 "nbformat": 4,
 "nbformat_minor": 2
}
