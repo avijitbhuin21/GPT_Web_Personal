{
 "cells": [
  {
   "cell_type": "code",
   "execution_count": 8,
   "metadata": {},
   "outputs": [
    {
     "name": "stdout",
     "output_type": "stream",
     "text": [
      "<img src=\"https://tse4.mm.bing.net/th/id/OIG.jSvoUgnFUuoXdjuf3fyB?dpr=1.1&pid=ImgGn\" alt=\"Image 1\"><img src=\"https://tse1.mm.bing.net/th/id/OIG.0iJTouH7HS7L5RFZQzml?dpr=1.1&pid=ImgGn\" alt=\"Image 2\" ><img src=\"https://tse3.mm.bing.net/th/id/OIG.txkl1wHHxzwVOK20UIUN?dpr=1.1&pid=ImgGn\" alt=\"Image 3\"><img src=\"https://tse1.mm.bing.net/th/id/OIG.WSf.bc1HvMFiHA4B6LK5?dpr=1.1&pid=ImgGn\" alt=\"Image 4\">\n"
     ]
    }
   ],
   "source": [
    "from bing_Image_generator import Image_Gen\n",
    "from IPython.display import Image,display\n",
    "import json\n",
    "\n",
    "prompt='a half humanoid made of a lot of watch wheels'\n",
    "\n",
    "data = json.load(open(\"templates\\cookies.json\"))\n",
    "image_generator = Image_Gen(all_cookies=data)\n",
    "\n",
    "res=image_generator.Generate(prompt=prompt)\n",
    "res=f'<img src=\"{res[0]}\" alt=\"Image 1\"><img src=\"{res[1]}\" alt=\"Image 2\" ><img src=\"{res[2]}\" alt=\"Image 3\"><img src=\"{res[3]}\" alt=\"Image 4\">'\n",
    "\n",
    "print(res)  \n"
   ]
  },
  {
   "cell_type": "code",
   "execution_count": 5,
   "metadata": {},
   "outputs": [
    {
     "name": "stdout",
     "output_type": "stream",
     "text": [
      "https://tse1.mm.bing.net/th/id/OIG.7RHzhyLJePz2EGxfeuEO?dpr=1.1&pid=ImgGn\n",
      "https://tse4.mm.bing.net/th/id/OIG.StFXggA2vy2Nn.BG6GOF?dpr=1.1&pid=ImgGn\n",
      "https://tse4.mm.bing.net/th/id/OIG.GUawM.7xjo0L6Uf9_dxR?dpr=1.1&pid=ImgGn\n",
      "https://tse1.mm.bing.net/th/id/OIG.3UFLesOVniV28hGzcwfP?dpr=1.1&pid=ImgGn\n"
     ]
    }
   ],
   "source": [
    "a=['https://tse4.mm.bing.net/th/id/OIG.hCoICqyqJ8AikwenqRY4?dpr=1.1&pid=ImgGn', 'https://tse4.mm.bing.net/th/id/OIG.gL0E4FuHPRli9x.rpJUx?dpr=1.1&pid=ImgGn', 'https://tse4.mm.bing.net/th/id/OIG.3dGWwuD3oHwn8MvHZpCv?dpr=1.1&pid=ImgGn', 'https://tse1.mm.bing.net/th/id/OIG.5HXa3uUdxQjkgeSsrxFv?dpr=1.1&pid=ImgGn']\n",
    "\n",
    "res=f'<img src={a[0]} alt=\"Image 1\"><img src={a[1]} alt=\"Image 2\" ><img src={a[2]} alt=\"Image 3\"><img src={a[3]} alt=\"Image 4\">'\n"
   ]
  },
  {
   "cell_type": "code",
   "execution_count": null,
   "metadata": {},
   "outputs": [],
   "source": [
    "<!DOCTYPE html>\n",
    "<html>\n",
    "<body>\n",
    "\n",
    "<h2>Image Gallery</h2>\n",
    "\n",
    "<img src=\"https://tse1.mm.bing.net/th/id/OIG.7RHzhyLJePz2EGxfeuEO?dpr=1.1&pid=ImgGn\" alt=\"Image 1\" style=\"width:200px;height:200px;margin-right:15px;\">\n",
    "<img src=\"https://tse4.mm.bing.net/th/id/OIG.StFXggA2vy2Nn.BG6GOF?dpr=1.1&pid=ImgGn\" alt=\"Image 2\" style=\"width:200px;height:200px;margin-right:15px;\">\n",
    "<img src=\"https://tse4.mm.bing.net/th/id/OIG.GUawM.7xjo0L6Uf9_dxR?dpr=1.1&pid=ImgGn\" alt=\"Image 3\" style=\"width:200px;height:200px;margin-right:15px;\">\n",
    "<img src=\"https://tse1.mm.bing.net/th/id/OIG.3UFLesOVniV28hGzcwfP?dpr=1.1&pid=ImgGn\" alt=\"Image 4\" style=\"width:200px;height:200px;\">\n",
    "\n",
    "</body>\n",
    "</html>\n"
   ]
  }
 ],
 "metadata": {
  "kernelspec": {
   "display_name": "Python 3",
   "language": "python",
   "name": "python3"
  },
  "language_info": {
   "codemirror_mode": {
    "name": "ipython",
    "version": 3
   },
   "file_extension": ".py",
   "mimetype": "text/x-python",
   "name": "python",
   "nbconvert_exporter": "python",
   "pygments_lexer": "ipython3",
   "version": "3.11.5"
  },
  "orig_nbformat": 4
 },
 "nbformat": 4,
 "nbformat_minor": 2
}
